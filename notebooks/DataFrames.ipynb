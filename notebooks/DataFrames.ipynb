{
 "cells": [
  {
   "cell_type": "code",
   "execution_count": 1,
   "metadata": {
    "collapsed": true
   },
   "outputs": [],
   "source": [
    "#Get movie_metadata.csv from https://www.kaggle.com/deepmatrix/imdb-5000-movie-dataset\n",
    "df = sqlContext.read.csv(\"movie_metadata.csv\", header=True)"
   ]
  },
  {
   "cell_type": "code",
   "execution_count": 2,
   "metadata": {},
   "outputs": [
    {
     "name": "stdout",
     "output_type": "stream",
     "text": [
      "root\n",
      " |-- color: string (nullable = true)\n",
      " |-- director_name: string (nullable = true)\n",
      " |-- num_critic_for_reviews: string (nullable = true)\n",
      " |-- duration: string (nullable = true)\n",
      " |-- director_facebook_likes: string (nullable = true)\n",
      " |-- actor_3_facebook_likes: string (nullable = true)\n",
      " |-- actor_2_name: string (nullable = true)\n",
      " |-- actor_1_facebook_likes: string (nullable = true)\n",
      " |-- gross: string (nullable = true)\n",
      " |-- genres: string (nullable = true)\n",
      " |-- actor_1_name: string (nullable = true)\n",
      " |-- movie_title: string (nullable = true)\n",
      " |-- num_voted_users: string (nullable = true)\n",
      " |-- cast_total_facebook_likes: string (nullable = true)\n",
      " |-- actor_3_name: string (nullable = true)\n",
      " |-- facenumber_in_poster: string (nullable = true)\n",
      " |-- plot_keywords: string (nullable = true)\n",
      " |-- movie_imdb_link: string (nullable = true)\n",
      " |-- num_user_for_reviews: string (nullable = true)\n",
      " |-- language: string (nullable = true)\n",
      " |-- country: string (nullable = true)\n",
      " |-- content_rating: string (nullable = true)\n",
      " |-- budget: string (nullable = true)\n",
      " |-- title_year: string (nullable = true)\n",
      " |-- actor_2_facebook_likes: string (nullable = true)\n",
      " |-- imdb_score: string (nullable = true)\n",
      " |-- aspect_ratio: string (nullable = true)\n",
      " |-- movie_facebook_likes: string (nullable = true)\n",
      "\n"
     ]
    }
   ],
   "source": [
    "df.printSchema()"
   ]
  },
  {
   "cell_type": "code",
   "execution_count": 3,
   "metadata": {},
   "outputs": [
    {
     "data": {
      "text/plain": [
       "5043"
      ]
     },
     "execution_count": 3,
     "metadata": {},
     "output_type": "execute_result"
    }
   ],
   "source": [
    "df.count()"
   ]
  },
  {
   "cell_type": "code",
   "execution_count": 4,
   "metadata": {},
   "outputs": [
    {
     "data": {
      "text/html": [
       "<div>\n",
       "<style>\n",
       "    .dataframe thead tr:only-child th {\n",
       "        text-align: right;\n",
       "    }\n",
       "\n",
       "    .dataframe thead th {\n",
       "        text-align: left;\n",
       "    }\n",
       "\n",
       "    .dataframe tbody tr th {\n",
       "        vertical-align: top;\n",
       "    }\n",
       "</style>\n",
       "<table border=\"1\" class=\"dataframe\">\n",
       "  <thead>\n",
       "    <tr style=\"text-align: right;\">\n",
       "      <th></th>\n",
       "      <th>color</th>\n",
       "      <th>director_name</th>\n",
       "      <th>num_critic_for_reviews</th>\n",
       "      <th>duration</th>\n",
       "      <th>director_facebook_likes</th>\n",
       "      <th>actor_3_facebook_likes</th>\n",
       "      <th>actor_2_name</th>\n",
       "      <th>actor_1_facebook_likes</th>\n",
       "      <th>gross</th>\n",
       "      <th>genres</th>\n",
       "      <th>...</th>\n",
       "      <th>num_user_for_reviews</th>\n",
       "      <th>language</th>\n",
       "      <th>country</th>\n",
       "      <th>content_rating</th>\n",
       "      <th>budget</th>\n",
       "      <th>title_year</th>\n",
       "      <th>actor_2_facebook_likes</th>\n",
       "      <th>imdb_score</th>\n",
       "      <th>aspect_ratio</th>\n",
       "      <th>movie_facebook_likes</th>\n",
       "    </tr>\n",
       "  </thead>\n",
       "  <tbody>\n",
       "    <tr>\n",
       "      <th>0</th>\n",
       "      <td>Color</td>\n",
       "      <td>James Cameron</td>\n",
       "      <td>723</td>\n",
       "      <td>178</td>\n",
       "      <td>0</td>\n",
       "      <td>855</td>\n",
       "      <td>Joel David Moore</td>\n",
       "      <td>1000</td>\n",
       "      <td>760505847</td>\n",
       "      <td>Action|Adventure|Fantasy|Sci-Fi</td>\n",
       "      <td>...</td>\n",
       "      <td>3054</td>\n",
       "      <td>English</td>\n",
       "      <td>USA</td>\n",
       "      <td>PG-13</td>\n",
       "      <td>237000000</td>\n",
       "      <td>2009</td>\n",
       "      <td>936</td>\n",
       "      <td>7.9</td>\n",
       "      <td>1.78</td>\n",
       "      <td>33000</td>\n",
       "    </tr>\n",
       "    <tr>\n",
       "      <th>1</th>\n",
       "      <td>Color</td>\n",
       "      <td>Gore Verbinski</td>\n",
       "      <td>302</td>\n",
       "      <td>169</td>\n",
       "      <td>563</td>\n",
       "      <td>1000</td>\n",
       "      <td>Orlando Bloom</td>\n",
       "      <td>40000</td>\n",
       "      <td>309404152</td>\n",
       "      <td>Action|Adventure|Fantasy</td>\n",
       "      <td>...</td>\n",
       "      <td>1238</td>\n",
       "      <td>English</td>\n",
       "      <td>USA</td>\n",
       "      <td>PG-13</td>\n",
       "      <td>300000000</td>\n",
       "      <td>2007</td>\n",
       "      <td>5000</td>\n",
       "      <td>7.1</td>\n",
       "      <td>2.35</td>\n",
       "      <td>0</td>\n",
       "    </tr>\n",
       "    <tr>\n",
       "      <th>2</th>\n",
       "      <td>Color</td>\n",
       "      <td>Sam Mendes</td>\n",
       "      <td>602</td>\n",
       "      <td>148</td>\n",
       "      <td>0</td>\n",
       "      <td>161</td>\n",
       "      <td>Rory Kinnear</td>\n",
       "      <td>11000</td>\n",
       "      <td>200074175</td>\n",
       "      <td>Action|Adventure|Thriller</td>\n",
       "      <td>...</td>\n",
       "      <td>994</td>\n",
       "      <td>English</td>\n",
       "      <td>UK</td>\n",
       "      <td>PG-13</td>\n",
       "      <td>245000000</td>\n",
       "      <td>2015</td>\n",
       "      <td>393</td>\n",
       "      <td>6.8</td>\n",
       "      <td>2.35</td>\n",
       "      <td>85000</td>\n",
       "    </tr>\n",
       "    <tr>\n",
       "      <th>3</th>\n",
       "      <td>Color</td>\n",
       "      <td>Christopher Nolan</td>\n",
       "      <td>813</td>\n",
       "      <td>164</td>\n",
       "      <td>22000</td>\n",
       "      <td>23000</td>\n",
       "      <td>Christian Bale</td>\n",
       "      <td>27000</td>\n",
       "      <td>448130642</td>\n",
       "      <td>Action|Thriller</td>\n",
       "      <td>...</td>\n",
       "      <td>2701</td>\n",
       "      <td>English</td>\n",
       "      <td>USA</td>\n",
       "      <td>PG-13</td>\n",
       "      <td>250000000</td>\n",
       "      <td>2012</td>\n",
       "      <td>23000</td>\n",
       "      <td>8.5</td>\n",
       "      <td>2.35</td>\n",
       "      <td>164000</td>\n",
       "    </tr>\n",
       "    <tr>\n",
       "      <th>4</th>\n",
       "      <td>None</td>\n",
       "      <td>Doug Walker</td>\n",
       "      <td>None</td>\n",
       "      <td>None</td>\n",
       "      <td>131</td>\n",
       "      <td>None</td>\n",
       "      <td>Rob Walker</td>\n",
       "      <td>131</td>\n",
       "      <td>None</td>\n",
       "      <td>Documentary</td>\n",
       "      <td>...</td>\n",
       "      <td>None</td>\n",
       "      <td>None</td>\n",
       "      <td>None</td>\n",
       "      <td>None</td>\n",
       "      <td>None</td>\n",
       "      <td>None</td>\n",
       "      <td>12</td>\n",
       "      <td>7.1</td>\n",
       "      <td>None</td>\n",
       "      <td>0</td>\n",
       "    </tr>\n",
       "  </tbody>\n",
       "</table>\n",
       "<p>5 rows × 28 columns</p>\n",
       "</div>"
      ],
      "text/plain": [
       "   color      director_name num_critic_for_reviews duration  \\\n",
       "0  Color      James Cameron                    723      178   \n",
       "1  Color     Gore Verbinski                    302      169   \n",
       "2  Color         Sam Mendes                    602      148   \n",
       "3  Color  Christopher Nolan                    813      164   \n",
       "4   None        Doug Walker                   None     None   \n",
       "\n",
       "  director_facebook_likes actor_3_facebook_likes      actor_2_name  \\\n",
       "0                       0                    855  Joel David Moore   \n",
       "1                     563                   1000     Orlando Bloom   \n",
       "2                       0                    161      Rory Kinnear   \n",
       "3                   22000                  23000    Christian Bale   \n",
       "4                     131                   None        Rob Walker   \n",
       "\n",
       "  actor_1_facebook_likes      gross                           genres  \\\n",
       "0                   1000  760505847  Action|Adventure|Fantasy|Sci-Fi   \n",
       "1                  40000  309404152         Action|Adventure|Fantasy   \n",
       "2                  11000  200074175        Action|Adventure|Thriller   \n",
       "3                  27000  448130642                  Action|Thriller   \n",
       "4                    131       None                      Documentary   \n",
       "\n",
       "          ...          num_user_for_reviews language country content_rating  \\\n",
       "0         ...                          3054  English     USA          PG-13   \n",
       "1         ...                          1238  English     USA          PG-13   \n",
       "2         ...                           994  English      UK          PG-13   \n",
       "3         ...                          2701  English     USA          PG-13   \n",
       "4         ...                          None     None    None           None   \n",
       "\n",
       "      budget title_year actor_2_facebook_likes imdb_score aspect_ratio  \\\n",
       "0  237000000       2009                    936        7.9         1.78   \n",
       "1  300000000       2007                   5000        7.1         2.35   \n",
       "2  245000000       2015                    393        6.8         2.35   \n",
       "3  250000000       2012                  23000        8.5         2.35   \n",
       "4       None       None                     12        7.1         None   \n",
       "\n",
       "  movie_facebook_likes  \n",
       "0                33000  \n",
       "1                    0  \n",
       "2                85000  \n",
       "3               164000  \n",
       "4                    0  \n",
       "\n",
       "[5 rows x 28 columns]"
      ]
     },
     "execution_count": 4,
     "metadata": {},
     "output_type": "execute_result"
    }
   ],
   "source": [
    "df.limit(10).toPandas().head()\n"
   ]
  },
  {
   "cell_type": "code",
   "execution_count": 5,
   "metadata": {},
   "outputs": [
    {
     "name": "stdout",
     "output_type": "stream",
     "text": [
      "+--------------------+----------+-----------------+\n",
      "|         movie_title|title_year|    director_name|\n",
      "+--------------------+----------+-----------------+\n",
      "|             Avatar |      2009|    James Cameron|\n",
      "|Pirates of the Ca...|      2007|   Gore Verbinski|\n",
      "|            Spectre |      2015|       Sam Mendes|\n",
      "|The Dark Knight R...|      2012|Christopher Nolan|\n",
      "|Star Wars: Episod...|      null|      Doug Walker|\n",
      "|        John Carter |      2012|   Andrew Stanton|\n",
      "|       Spider-Man 3 |      2007|        Sam Raimi|\n",
      "|            Tangled |      2010|     Nathan Greno|\n",
      "|Avengers: Age of ...|      2015|      Joss Whedon|\n",
      "|Harry Potter and ...|      2009|      David Yates|\n",
      "+--------------------+----------+-----------------+\n",
      "only showing top 10 rows\n",
      "\n"
     ]
    }
   ],
   "source": [
    "df.select('movie_title', 'title_year', 'director_name').show(10)"
   ]
  },
  {
   "cell_type": "code",
   "execution_count": 6,
   "metadata": {},
   "outputs": [
    {
     "name": "stdout",
     "output_type": "stream",
     "text": [
      "+--------------------+----------+--------------------+----------+\n",
      "|         movie_title|title_year|       director_name|imdb_score|\n",
      "+--------------------+----------+--------------------+----------+\n",
      "|Towering Inferno ...|      null|      John Blanchard|       9.5|\n",
      "|The Shawshank Red...|      1994|      Frank Darabont|       9.3|\n",
      "|      The Godfather |      1972|Francis Ford Coppola|       9.2|\n",
      "|Dekalog             |      null|                null|       9.1|\n",
      "|Kickboxer: Vengea...|      2016|      John Stockwell|       9.1|\n",
      "|Dekalog             |      null|                null|       9.1|\n",
      "|  Fargo             |      null|                null|       9.0|\n",
      "|    The Dark Knight |      2008|   Christopher Nolan|       9.0|\n",
      "|The Godfather: Pa...|      1974|Francis Ford Coppola|       9.0|\n",
      "|   Schindler's List |      1993|    Steven Spielberg|       8.9|\n",
      "+--------------------+----------+--------------------+----------+\n",
      "only showing top 10 rows\n",
      "\n"
     ]
    }
   ],
   "source": [
    "df.orderBy(\"imdb_score\", ascending=False) \\\n",
    ".select('movie_title', 'title_year', 'director_name', 'imdb_score') \\\n",
    ".show(10)"
   ]
  },
  {
   "cell_type": "code",
   "execution_count": 7,
   "metadata": {},
   "outputs": [
    {
     "name": "stdout",
     "output_type": "stream",
     "text": [
      "+--------------------+----------+--------------------+----------+\n",
      "|         movie_title|title_year|       director_name|imdb_score|\n",
      "+--------------------+----------+--------------------+----------+\n",
      "|Towering Inferno ...|      null|      John Blanchard|       9.5|\n",
      "|The Shawshank Red...|      1994|      Frank Darabont|       9.3|\n",
      "|      The Godfather |      1972|Francis Ford Coppola|       9.2|\n",
      "|    The Dark Knight |      2008|   Christopher Nolan|       9.0|\n",
      "|  Fargo             |      null|                null|       9.0|\n",
      "|The Godfather: Pa...|      1974|Francis Ford Coppola|       9.0|\n",
      "|The Lord of the R...|      2003|       Peter Jackson|       8.9|\n",
      "|       Pulp Fiction |      1994|   Quentin Tarantino|       8.9|\n",
      "|   Schindler's List |      1993|    Steven Spielberg|       8.9|\n",
      "|       12 Angry Men |      1957|        Sidney Lumet|       8.9|\n",
      "+--------------------+----------+--------------------+----------+\n",
      "only showing top 10 rows\n",
      "\n"
     ]
    }
   ],
   "source": [
    "df.filter(df['language'] == \"English\") \\\n",
    ".orderBy(\"imdb_score\", ascending=False) \\\n",
    ".select('movie_title', 'title_year', 'director_name', 'imdb_score') \\\n",
    ".show(10)"
   ]
  },
  {
   "cell_type": "code",
   "execution_count": null,
   "metadata": {
    "collapsed": true
   },
   "outputs": [],
   "source": [
    "#I also only like new movies\n",
    "df.filter((df['language'] == \"English\") & (df[\"title_year\"] >= 2000)) \\\n",
    ".orderBy(\"imdb_score\", ascending=False) \\\n",
    ".select('movie_title', 'title_year', 'director_name', 'imdb_score') \\\n",
    ".show(10)"
   ]
  },
  {
   "cell_type": "code",
   "execution_count": 8,
   "metadata": {},
   "outputs": [
    {
     "name": "stdout",
     "output_type": "stream",
     "text": [
      "root\n",
      " |-- color: string (nullable = true)\n",
      " |-- director_name: string (nullable = true)\n",
      " |-- num_critic_for_reviews: string (nullable = true)\n",
      " |-- duration: string (nullable = true)\n",
      " |-- director_facebook_likes: string (nullable = true)\n",
      " |-- actor_3_facebook_likes: string (nullable = true)\n",
      " |-- actor_2_name: string (nullable = true)\n",
      " |-- actor_1_facebook_likes: string (nullable = true)\n",
      " |-- gross: string (nullable = true)\n",
      " |-- genres: string (nullable = true)\n",
      " |-- actor_1_name: string (nullable = true)\n",
      " |-- movie_title: string (nullable = true)\n",
      " |-- num_voted_users: string (nullable = true)\n",
      " |-- cast_total_facebook_likes: string (nullable = true)\n",
      " |-- actor_3_name: string (nullable = true)\n",
      " |-- facenumber_in_poster: string (nullable = true)\n",
      " |-- plot_keywords: string (nullable = true)\n",
      " |-- movie_imdb_link: string (nullable = true)\n",
      " |-- num_user_for_reviews: string (nullable = true)\n",
      " |-- language: string (nullable = true)\n",
      " |-- country: string (nullable = true)\n",
      " |-- content_rating: string (nullable = true)\n",
      " |-- budget: string (nullable = true)\n",
      " |-- title_year: string (nullable = true)\n",
      " |-- actor_2_facebook_likes: string (nullable = true)\n",
      " |-- imdb_score: string (nullable = true)\n",
      " |-- aspect_ratio: string (nullable = true)\n",
      " |-- movie_facebook_likes: string (nullable = true)\n",
      " |-- grossInt: integer (nullable = true)\n",
      " |-- budgetInt: integer (nullable = true)\n",
      " |-- profit: double (nullable = true)\n",
      "\n"
     ]
    }
   ],
   "source": [
    "df = df.withColumn(\"grossInt\", df[\"gross\"].cast(\"int\"))\n",
    "df = df.withColumn(\"budgetInt\", df[\"budget\"].cast(\"int\"))\n",
    "df = df.withColumn(\"profit\", df[\"gross\"] - df[\"budget\"])\n",
    "df.printSchema()"
   ]
  }
 ],
 "metadata": {
  "kernelspec": {
   "display_name": "Python 3",
   "language": "python",
   "name": "python3"
  },
  "language_info": {
   "codemirror_mode": {
    "name": "ipython",
    "version": 3
   },
   "file_extension": ".py",
   "mimetype": "text/x-python",
   "name": "python",
   "nbconvert_exporter": "python",
   "pygments_lexer": "ipython3",
   "version": "3.6.1"
  }
 },
 "nbformat": 4,
 "nbformat_minor": 2
}
