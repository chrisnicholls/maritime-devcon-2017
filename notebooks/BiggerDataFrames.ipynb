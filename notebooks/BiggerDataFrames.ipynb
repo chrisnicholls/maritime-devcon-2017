{
 "cells": [
  {
   "cell_type": "code",
   "execution_count": 1,
   "metadata": {
    "collapsed": true
   },
   "outputs": [],
   "source": [
    "# Get the DelayedFlights.csv file from: https://www.kaggle.com/giovamata/airlinedelaycauses\n",
    "df = sqlContext.read.csv('DelayedFlights.csv', header=True)"
   ]
  },
  {
   "cell_type": "code",
   "execution_count": 3,
   "metadata": {},
   "outputs": [
    {
     "name": "stdout",
     "output_type": "stream",
     "text": [
      "root\n",
      " |-- _c0: string (nullable = true)\n",
      " |-- Year: string (nullable = true)\n",
      " |-- Month: string (nullable = true)\n",
      " |-- DayofMonth: string (nullable = true)\n",
      " |-- DayOfWeek: string (nullable = true)\n",
      " |-- DepTime: string (nullable = true)\n",
      " |-- CRSDepTime: string (nullable = true)\n",
      " |-- ArrTime: string (nullable = true)\n",
      " |-- CRSArrTime: string (nullable = true)\n",
      " |-- UniqueCarrier: string (nullable = true)\n",
      " |-- FlightNum: string (nullable = true)\n",
      " |-- TailNum: string (nullable = true)\n",
      " |-- ActualElapsedTime: string (nullable = true)\n",
      " |-- CRSElapsedTime: string (nullable = true)\n",
      " |-- AirTime: string (nullable = true)\n",
      " |-- ArrDelay: string (nullable = true)\n",
      " |-- DepDelay: string (nullable = true)\n",
      " |-- Origin: string (nullable = true)\n",
      " |-- Dest: string (nullable = true)\n",
      " |-- Distance: string (nullable = true)\n",
      " |-- TaxiIn: string (nullable = true)\n",
      " |-- TaxiOut: string (nullable = true)\n",
      " |-- Cancelled: string (nullable = true)\n",
      " |-- CancellationCode: string (nullable = true)\n",
      " |-- Diverted: string (nullable = true)\n",
      " |-- CarrierDelay: string (nullable = true)\n",
      " |-- WeatherDelay: string (nullable = true)\n",
      " |-- NASDelay: string (nullable = true)\n",
      " |-- SecurityDelay: string (nullable = true)\n",
      " |-- LateAircraftDelay: string (nullable = true)\n",
      "\n"
     ]
    }
   ],
   "source": [
    "df.printSchema()"
   ]
  },
  {
   "cell_type": "code",
   "execution_count": 2,
   "metadata": {},
   "outputs": [
    {
     "name": "stdout",
     "output_type": "stream",
     "text": [
      "CPU times: user 721 µs, sys: 804 µs, total: 1.52 ms\n",
      "Wall time: 2.22 s\n"
     ]
    },
    {
     "data": {
      "text/plain": [
       "1936758"
      ]
     },
     "execution_count": 2,
     "metadata": {},
     "output_type": "execute_result"
    }
   ],
   "source": [
    "%time df.count()"
   ]
  },
  {
   "cell_type": "code",
   "execution_count": 4,
   "metadata": {},
   "outputs": [
    {
     "name": "stdout",
     "output_type": "stream",
     "text": [
      "+-------------+\n",
      "|UniqueCarrier|\n",
      "+-------------+\n",
      "|           WN|\n",
      "|           WN|\n",
      "|           WN|\n",
      "|           WN|\n",
      "|           WN|\n",
      "|           WN|\n",
      "|           WN|\n",
      "|           WN|\n",
      "|           WN|\n",
      "|           WN|\n",
      "+-------------+\n",
      "only showing top 10 rows\n",
      "\n"
     ]
    }
   ],
   "source": [
    "df.select(\"UniqueCarrier\").show(10)"
   ]
  },
  {
   "cell_type": "code",
   "execution_count": 5,
   "metadata": {},
   "outputs": [
    {
     "name": "stdout",
     "output_type": "stream",
     "text": [
      "+--------+\n",
      "|DepDelay|\n",
      "+--------+\n",
      "|     8.0|\n",
      "|    19.0|\n",
      "|     8.0|\n",
      "|    34.0|\n",
      "|    25.0|\n",
      "|    67.0|\n",
      "|     6.0|\n",
      "|    94.0|\n",
      "|     9.0|\n",
      "|    27.0|\n",
      "|     9.0|\n",
      "|    28.0|\n",
      "|    51.0|\n",
      "|    32.0|\n",
      "|    20.0|\n",
      "|     9.0|\n",
      "|    25.0|\n",
      "|    87.0|\n",
      "|    29.0|\n",
      "|    82.0|\n",
      "+--------+\n",
      "only showing top 20 rows\n",
      "\n"
     ]
    }
   ],
   "source": [
    "df.select(\"DepDelay\").show(20)"
   ]
  },
  {
   "cell_type": "code",
   "execution_count": 3,
   "metadata": {},
   "outputs": [
    {
     "name": "stdout",
     "output_type": "stream",
     "text": [
      "+-------------+------+\n",
      "|UniqueCarrier| count|\n",
      "+-------------+------+\n",
      "|           WN|377602|\n",
      "|           AA|191865|\n",
      "|           MQ|141920|\n",
      "|           UA|141426|\n",
      "|           OO|132433|\n",
      "|           DL|114238|\n",
      "|           XE|103663|\n",
      "|           CO|100195|\n",
      "|           US| 98425|\n",
      "|           EV| 81877|\n",
      "|           NW| 79108|\n",
      "|           FL| 71284|\n",
      "|           YV| 67063|\n",
      "|           B6| 55315|\n",
      "|           OH| 52657|\n",
      "|           9E| 51885|\n",
      "|           AS| 39293|\n",
      "|           F9| 28269|\n",
      "|           HA|  7490|\n",
      "|           AQ|   750|\n",
      "+-------------+------+\n",
      "\n",
      "CPU times: user 2.98 ms, sys: 1.57 ms, total: 4.56 ms\n",
      "Wall time: 2.27 s\n"
     ]
    }
   ],
   "source": [
    "%time df.groupBy(\"UniqueCarrier\").count().orderBy(\"count\", ascending=False).show(25)"
   ]
  },
  {
   "cell_type": "code",
   "execution_count": 4,
   "metadata": {},
   "outputs": [
    {
     "name": "stdout",
     "output_type": "stream",
     "text": [
      "CPU times: user 16.1 ms, sys: 9.61 ms, total: 25.7 ms\n",
      "Wall time: 10.6 s\n",
      "([6.0, 252.1, 498.2, 744.3, 990.4, 1236.5, 1482.6, 1728.7, 1974.8, 2220.9, 2467.0], [1918280, 16940, 973, 365, 159, 31, 7, 1, 0, 2])\n"
     ]
    }
   ],
   "source": [
    "df = df.withColumn(\"DepDelayDouble\", df[\"DepDelay\"].cast(\"double\"))\n",
    "%time hist = df.select(\"DepDelayDouble\").rdd.map(lambda x: x[0]).histogram(10)\n",
    "print(hist)"
   ]
  }
 ],
 "metadata": {
  "kernelspec": {
   "display_name": "Python 3",
   "language": "python",
   "name": "python3"
  },
  "language_info": {
   "codemirror_mode": {
    "name": "ipython",
    "version": 3
   },
   "file_extension": ".py",
   "mimetype": "text/x-python",
   "name": "python",
   "nbconvert_exporter": "python",
   "pygments_lexer": "ipython3",
   "version": "3.6.1"
  }
 },
 "nbformat": 4,
 "nbformat_minor": 2
}
